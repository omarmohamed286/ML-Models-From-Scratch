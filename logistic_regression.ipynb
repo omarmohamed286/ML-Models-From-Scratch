{
 "cells": [
  {
   "cell_type": "code",
   "execution_count": 1,
   "id": "c009e3d8-8280-4b5b-9f2b-8a2172cd4c57",
   "metadata": {},
   "outputs": [],
   "source": [
    "import numpy as np"
   ]
  },
  {
   "cell_type": "code",
   "execution_count": 2,
   "id": "56b138eb-642c-495b-9253-3dccb2f0761f",
   "metadata": {},
   "outputs": [],
   "source": [
    "class LogisticRegression:\n",
    "    \n",
    "    def __init__(self,lr = 0.01 ,iterations = 1000):\n",
    "        self.lr = lr\n",
    "        self.iterations = iterations\n",
    "        self.W = 0\n",
    "        self.b = 0\n",
    "\n",
    "    def sigmoid(self,x):\n",
    "        return 1/(1+np.exp(-x))\n",
    "    \n",
    "    def make_prediction(self,X,W,b):\n",
    "        return self.sigmoid(np.dot(X,W)+b)\n",
    "\n",
    "    def fit(self,X,y):\n",
    "        observations,features = X.shape\n",
    "        self.W = np.random.randn(features)\n",
    "        \n",
    "        for _ in range(self.iterations):\n",
    "            y_pred = self.make_prediction(X,self.W.T,self.b)\n",
    "            dw = -(2/observations) * np.dot(X.T,(y - y_pred))\n",
    "            db = -(2/observations) * np.sum((y - y_pred))\n",
    "\n",
    "            self.W -=  self.lr*dw\n",
    "            self.b -=  self.lr*db\n",
    "\n",
    "    def predict(self,X):\n",
    "        y_pred = self.make_prediction(X,self.W.T,self.b)\n",
    "        return y_pred >= 0.5\n",
    "\n",
    "    def accuracy(self,y_pred,y_test):\n",
    "        return np.mean(y_pred == y_test)\n"
   ]
  },
  {
   "cell_type": "code",
   "execution_count": 3,
   "id": "c0f27b41-fb97-4488-bbcd-b35daf0f476e",
   "metadata": {},
   "outputs": [],
   "source": [
    "from sklearn.datasets import load_breast_cancer\n",
    "from sklearn.model_selection import train_test_split\n",
    "data = load_breast_cancer()\n",
    "X,y = data.data , data.target\n",
    "X_train, X_test, y_train, y_test = train_test_split(X, y, test_size=0.2, random_state=42)"
   ]
  },
  {
   "cell_type": "code",
   "execution_count": 4,
   "id": "81244da8-0bfd-441b-94ff-d7eefa46dd3a",
   "metadata": {},
   "outputs": [
    {
     "name": "stderr",
     "output_type": "stream",
     "text": [
      "C:\\Users\\M.HEPTON\\AppData\\Local\\Temp\\ipykernel_13420\\3085780611.py:10: RuntimeWarning: overflow encountered in exp\n",
      "  return 1/(1+np.exp(-x))\n"
     ]
    },
    {
     "data": {
      "text/plain": [
       "0.9473684210526315"
      ]
     },
     "execution_count": 4,
     "metadata": {},
     "output_type": "execute_result"
    }
   ],
   "source": [
    "model = LogisticRegression()\n",
    "model.fit(X_train,y_train)\n",
    "y_pred = model.predict(X_test)\n",
    "model.accuracy(y_pred,y_test)"
   ]
  },
  {
   "cell_type": "code",
   "execution_count": null,
   "id": "bb3c307a-d3c9-44f5-9874-266c54af9fad",
   "metadata": {},
   "outputs": [],
   "source": []
  }
 ],
 "metadata": {
  "kernelspec": {
   "display_name": "Python 3 (ipykernel)",
   "language": "python",
   "name": "python3"
  },
  "language_info": {
   "codemirror_mode": {
    "name": "ipython",
    "version": 3
   },
   "file_extension": ".py",
   "mimetype": "text/x-python",
   "name": "python",
   "nbconvert_exporter": "python",
   "pygments_lexer": "ipython3",
   "version": "3.11.4"
  }
 },
 "nbformat": 4,
 "nbformat_minor": 5
}
