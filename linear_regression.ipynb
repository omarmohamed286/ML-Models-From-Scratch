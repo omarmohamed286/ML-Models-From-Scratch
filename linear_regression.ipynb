{
 "cells": [
  {
   "cell_type": "code",
   "execution_count": 1,
   "id": "5db3b184-a3b7-475c-a18a-a334877d15cc",
   "metadata": {},
   "outputs": [],
   "source": [
    "import numpy as np"
   ]
  },
  {
   "cell_type": "code",
   "execution_count": 50,
   "id": "d19ebe42-2952-4509-aefc-4b2fb236e0da",
   "metadata": {},
   "outputs": [],
   "source": [
    "class LinearRegreesion:\n",
    "    \n",
    "    def __init__(self,lr = 0.01 ,iterations = 1000):\n",
    "        self.lr = lr\n",
    "        self.iterations = iterations\n",
    "        self.W = 0\n",
    "        self.b = 0\n",
    "\n",
    "    def make_prediction(self,X,W,b):\n",
    "        return np.dot(X,W) + b\n",
    "\n",
    "    def fit(self,X,y):\n",
    "        observations,features = X.shape\n",
    "        self.W = np.random.randn(features)\n",
    "        \n",
    "        for _ in range(self.iterations):\n",
    "            y_pred = self.make_prediction(X,self.W.T,self.b)\n",
    "            dw = -(2/observations) * np.dot(X.T,(y - y_pred))\n",
    "            db = -(2/observations) * np.sum((y - y_pred))\n",
    "\n",
    "            self.W -=  self.lr*dw\n",
    "            self.b -=  self.lr*db\n",
    "\n",
    "    def predict(self,X):\n",
    "        return self.make_prediction(X,self.W.T,self.b)\n",
    "\n",
    "    def mse(self,y_pred,y_test):\n",
    "        return np.mean((y_pred - y_test)**2)"
   ]
  },
  {
   "cell_type": "code",
   "execution_count": 55,
   "id": "9fd579a4-da78-482c-9f8a-cbad26ce5ca2",
   "metadata": {},
   "outputs": [
    {
     "data": {
      "text/plain": [
       "25.123943227353497"
      ]
     },
     "execution_count": 55,
     "metadata": {},
     "output_type": "execute_result"
    }
   ],
   "source": [
    "from sklearn.datasets import make_regression\n",
    "from sklearn.model_selection import train_test_split\n",
    "\n",
    "X,y = make_regression(n_samples = 1500, n_features= 4,noise = 5)\n",
    "\n",
    "X_train, X_test, y_train, y_test = train_test_split(X, y, test_size=0.3, random_state=42)\n",
    "\n",
    "model = LinearRegreesion()\n",
    "model.fit(X_train,y_train)\n",
    "\n",
    "y_pred = model.predict(X_test)\n",
    "model.mse(y_pred,y_test)"
   ]
  },
  {
   "cell_type": "code",
   "execution_count": null,
   "id": "d9f2056c-9196-41d6-a25c-6dd7b2606230",
   "metadata": {},
   "outputs": [],
   "source": []
  }
 ],
 "metadata": {
  "kernelspec": {
   "display_name": "Python 3 (ipykernel)",
   "language": "python",
   "name": "python3"
  },
  "language_info": {
   "codemirror_mode": {
    "name": "ipython",
    "version": 3
   },
   "file_extension": ".py",
   "mimetype": "text/x-python",
   "name": "python",
   "nbconvert_exporter": "python",
   "pygments_lexer": "ipython3",
   "version": "3.11.4"
  }
 },
 "nbformat": 4,
 "nbformat_minor": 5
}
